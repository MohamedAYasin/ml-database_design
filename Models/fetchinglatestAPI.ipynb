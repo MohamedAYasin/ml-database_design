{
  "nbformat": 4,
  "nbformat_minor": 0,
  "metadata": {
    "colab": {
      "provenance": []
    },
    "kernelspec": {
      "name": "python3",
      "display_name": "Python 3"
    },
    "language_info": {
      "name": "python"
    }
  },
  "cells": [
    {
      "cell_type": "code",
      "execution_count": 36,
      "metadata": {
        "colab": {
          "base_uri": "https://localhost:8080/"
        },
        "id": "BufeetWEGN-Q",
        "outputId": "e209a8e7-c927-47d7-d0a0-015d2c03d724"
      },
      "outputs": [
        {
          "output_type": "stream",
          "name": "stdout",
          "text": [
            "Fetched Latest Entry: \n",
            "{'_id': '672e7d20ab1c8e0ffd19e9d6', 'ID': 10, 'name': 'Messi', 'category': 'Legend', 'main_category': 'GOAT', 'goal': 900, 'state': 'Argentina'}\n"
          ]
        }
      ],
      "source": [
        "\"\"\"This script Fetches the Latest Kickstarter Project entry from the database and makes Predictions with it\"\"\"\n",
        "\n",
        "import requests\n",
        "import joblib\n",
        "import pandas as pd\n",
        "import os\n",
        "\n",
        "# Define the API URL for fetching the latest entry\n",
        "api_url = \"https://kickstarter-api-3z5m.onrender.com/projects/latest\"\n",
        "\n",
        "# Step 1: Fetch the latest entry from the API\n",
        "try:\n",
        "    response = requests.get(api_url)\n",
        "    response.raise_for_status()\n",
        "    latest_entry = response.json()\n",
        "except requests.exceptions.RequestException as e:\n",
        "    print(f\"Error fetching data: {e}\")\n",
        "    latest_entry = None\n",
        "\n",
        "# Step 2: Continue only if latest_entry is available\n",
        "if latest_entry:\n",
        "    print(f\"Fetched Latest Entry: \\n{latest_entry}\")\n",
        "\n",
        "    # Define the path to the model file (Update this path as needed)\n",
        "    dir = os.getcwd()\n",
        "    model_path = os.path.join(dir, 'kickstarter_model.pkl')\n",
        "    # model_path = 'kickstarter_model.pkl'  # Specify the path to your model here\n",
        "\n",
        "    # Load the trained model\n",
        "    try:\n",
        "        model = joblib.load(model_path)\n",
        "    except FileNotFoundError:\n",
        "        print(f\"Model file not found at {model_path}\")\n",
        "        model = None\n",
        "\n",
        "    if model:\n",
        "        # Convert the fetched entry into a DataFrame for preprocessing\n",
        "        data_df = pd.DataFrame([latest_entry])\n",
        "\n",
        "        # Select and preprocess relevant features\n",
        "        expected_columns = ['ID', 'name', 'category', 'main_category', 'goal', 'state']\n",
        "\n",
        "        # Ensure all expected columns are present\n",
        "        for col in expected_columns:\n",
        "            if col not in data_df.columns:\n",
        "                data_df[col] = 0\n",
        "\n",
        "        data_df = data_df[expected_columns]\n",
        "\n",
        "        # Handle categorical variables\n",
        "        data_df = pd.get_dummies(\n",
        "            data_df, columns=['name', 'category', 'main_category', 'state'], drop_first=True\n",
        "        )\n",
        "\n",
        "        # Align the DataFrame with the model's expected input features\n",
        "        model_features = model.feature_names_in_\n",
        "        for feature in model_features:\n",
        "            if feature not in data_df.columns:\n",
        "                data_df[feature] = 0\n",
        "\n",
        "        data_df = data_df[model_features]\n",
        "\n",
        "        # Convert to input format\n"
      ]
    }
  ]
}